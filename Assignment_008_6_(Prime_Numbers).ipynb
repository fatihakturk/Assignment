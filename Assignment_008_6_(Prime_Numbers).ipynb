{
  "nbformat": 4,
  "nbformat_minor": 0,
  "metadata": {
    "colab": {
      "name": "Assignment-008/6 (Prime Numbers).ipynb",
      "provenance": [],
      "authorship_tag": "ABX9TyNSafHUu7KPiiU/cmhC4vUu",
      "include_colab_link": true
    },
    "kernelspec": {
      "name": "python3",
      "display_name": "Python 3"
    },
    "language_info": {
      "name": "python"
    }
  },
  "cells": [
    {
      "cell_type": "markdown",
      "metadata": {
        "id": "view-in-github",
        "colab_type": "text"
      },
      "source": [
        "<a href=\"https://colab.research.google.com/github/fatihakturk/Assignment/blob/main/Assignment_008_6_(Prime_Numbers).ipynb\" target=\"_parent\"><img src=\"https://colab.research.google.com/assets/colab-badge.svg\" alt=\"Open In Colab\"/></a>"
      ]
    },
    {
      "cell_type": "code",
      "metadata": {
        "id": "uH3bp4oowBQY"
      },
      "source": [
        "n=int(input(\"Entered the number : \"))\n",
        "prim_numbers_list = []\n",
        "for i in range (2, n+1):\n",
        "    for j in range(2, i):\n",
        "        if i%j == 0:\n",
        "            break\n",
        "    else:\n",
        "        prim_numbers_list.append(i)\n",
        "print(prim_numbers_list)"
      ],
      "execution_count": null,
      "outputs": []
    }
  ]
}