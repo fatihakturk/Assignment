{
  "nbformat": 4,
  "nbformat_minor": 0,
  "metadata": {
    "colab": {
      "name": "Untitled2.ipynb",
      "provenance": [],
      "authorship_tag": "ABX9TyP93EJVQSkHLeQS1ax0I2q5",
      "include_colab_link": true
    },
    "kernelspec": {
      "name": "python3",
      "display_name": "Python 3"
    },
    "language_info": {
      "name": "python"
    }
  },
  "cells": [
    {
      "cell_type": "markdown",
      "metadata": {
        "id": "view-in-github",
        "colab_type": "text"
      },
      "source": [
        "<a href=\"https://colab.research.google.com/github/fatihakturk/Assignment/blob/main/Untitled2.ipynb\" target=\"_parent\"><img src=\"https://colab.research.google.com/assets/colab-badge.svg\" alt=\"Open In Colab\"/></a>"
      ]
    },
    {
      "cell_type": "code",
      "metadata": {
        "id": "P9zhZW_Q4jo5"
      },
      "source": [
        "sayi=int(input(\"Sayıyı Girin : \"))\n",
        "if sayi > 1:\n",
        "   \n",
        "   for i in range(2,sayi):\n",
        "       if (sayi % i) == 0:\n",
        "           print(sayi,\" Asal Sayı Değildir.\")\n",
        "           break\n",
        "   else:\n",
        "       print(sayi,\" Asal Sayıdır.\")\n",
        " \n",
        "else:\n",
        "   print(sayi,\" Asal Sayı Değildir.\")"
      ],
      "execution_count": null,
      "outputs": []
    }
  ]
}