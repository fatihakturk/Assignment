{
  "nbformat": 4,
  "nbformat_minor": 0,
  "metadata": {
    "colab": {
      "name": "PasswordReminder.ipynb",
      "provenance": [],
      "authorship_tag": "ABX9TyMz7B0J3rqgrPQrXZONLEeC",
      "include_colab_link": true
    },
    "kernelspec": {
      "name": "python3",
      "display_name": "Python 3"
    },
    "language_info": {
      "name": "python"
    }
  },
  "cells": [
    {
      "cell_type": "markdown",
      "metadata": {
        "id": "view-in-github",
        "colab_type": "text"
      },
      "source": [
        "<a href=\"https://colab.research.google.com/github/fatihakturk/Assignment/blob/main/PasswordReminder.ipynb\" target=\"_parent\"><img src=\"https://colab.research.google.com/assets/colab-badge.svg\" alt=\"Open In Colab\"/></a>"
      ]
    },
    {
      "cell_type": "code",
      "metadata": {
        "id": "yjN0Eg_1vb3n"
      },
      "source": [
        "my_password = {\"name\" : \"fatih\", \"password\" : \"qwerasdf\" }\n",
        "tried = input(\"entered the name : \").lower()\n",
        "a = my_password[\"name\"]\n",
        "if a == tried :\n",
        "  print(\"Hello, {}! The password is : {}\".format(tried, my_password[\"password\"]))\n",
        "else:\n",
        "  print(\"Hello, {}! See you later.\".format(tried))"
      ],
      "execution_count": null,
      "outputs": []
    }
  ]
}